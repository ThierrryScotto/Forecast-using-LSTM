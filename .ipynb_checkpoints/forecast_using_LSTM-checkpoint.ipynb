{
 "cells": [
  {
   "cell_type": "code",
   "execution_count": 32,
   "id": "4c45e049",
   "metadata": {},
   "outputs": [
    {
     "data": {
      "text/plain": [
       "'\\ndataset: https://finance.yahoo.com/quote/GE/history/\\nAlso try S&P: https://finance.yahoo.com/quote/%5EGSPC/history?p=%5EGSPC\\n'"
      ]
     },
     "execution_count": 32,
     "metadata": {},
     "output_type": "execute_result"
    }
   ],
   "source": [
    "\"\"\"\n",
    "dataset: https://finance.yahoo.com/quote/GE/history/\n",
    "Also try S&P: https://finance.yahoo.com/quote/%5EGSPC/history?p=%5EGSPC\n",
    "Video: https://www.youtube.com/watch?v=tepxdcepTbY&list=WL&index=2&t=164s&ab_channel=DigitalSreeni\n",
    "\"\"\""
   ]
  },
  {
   "cell_type": "code",
   "execution_count": 33,
   "id": "8a222fea",
   "metadata": {},
   "outputs": [],
   "source": [
    "import numpy as np\n",
    "import pandas as pd\n",
    "import seaborn as sns\n",
    "from matplotlib import pyplot as plt\n",
    "from keras.models import Sequential\n",
    "from keras.layers import LSTM\n",
    "from keras.layers import Dense, Dropout\n",
    "from sklearn.preprocessing import StandardScaler"
   ]
  },
  {
   "cell_type": "code",
   "execution_count": 34,
   "id": "7ef5ba73",
   "metadata": {},
   "outputs": [],
   "source": [
    "df = pd.read_csv(\"GE.csv\")"
   ]
  },
  {
   "cell_type": "code",
   "execution_count": 35,
   "id": "8bf373ff",
   "metadata": {},
   "outputs": [
    {
     "data": {
      "text/html": [
       "<div>\n",
       "<style scoped>\n",
       "    .dataframe tbody tr th:only-of-type {\n",
       "        vertical-align: middle;\n",
       "    }\n",
       "\n",
       "    .dataframe tbody tr th {\n",
       "        vertical-align: top;\n",
       "    }\n",
       "\n",
       "    .dataframe thead th {\n",
       "        text-align: right;\n",
       "    }\n",
       "</style>\n",
       "<table border=\"1\" class=\"dataframe\">\n",
       "  <thead>\n",
       "    <tr style=\"text-align: right;\">\n",
       "      <th></th>\n",
       "      <th>Date</th>\n",
       "      <th>Open</th>\n",
       "      <th>High</th>\n",
       "      <th>Low</th>\n",
       "      <th>Close</th>\n",
       "      <th>Adj Close</th>\n",
       "      <th>Volume</th>\n",
       "    </tr>\n",
       "  </thead>\n",
       "  <tbody>\n",
       "    <tr>\n",
       "      <th>0</th>\n",
       "      <td>2021-08-11</td>\n",
       "      <td>106.209999</td>\n",
       "      <td>106.209999</td>\n",
       "      <td>103.820000</td>\n",
       "      <td>106.040001</td>\n",
       "      <td>105.643753</td>\n",
       "      <td>8305100</td>\n",
       "    </tr>\n",
       "    <tr>\n",
       "      <th>1</th>\n",
       "      <td>2021-08-12</td>\n",
       "      <td>106.190002</td>\n",
       "      <td>107.230003</td>\n",
       "      <td>105.239998</td>\n",
       "      <td>106.519997</td>\n",
       "      <td>106.121956</td>\n",
       "      <td>6398700</td>\n",
       "    </tr>\n",
       "    <tr>\n",
       "      <th>2</th>\n",
       "      <td>2021-08-13</td>\n",
       "      <td>106.500000</td>\n",
       "      <td>106.620003</td>\n",
       "      <td>104.580002</td>\n",
       "      <td>104.919998</td>\n",
       "      <td>104.527946</td>\n",
       "      <td>5619900</td>\n",
       "    </tr>\n",
       "    <tr>\n",
       "      <th>3</th>\n",
       "      <td>2021-08-16</td>\n",
       "      <td>104.230003</td>\n",
       "      <td>104.300003</td>\n",
       "      <td>102.239998</td>\n",
       "      <td>103.349998</td>\n",
       "      <td>102.963806</td>\n",
       "      <td>6916200</td>\n",
       "    </tr>\n",
       "    <tr>\n",
       "      <th>4</th>\n",
       "      <td>2021-08-17</td>\n",
       "      <td>102.540001</td>\n",
       "      <td>103.269997</td>\n",
       "      <td>100.360001</td>\n",
       "      <td>101.620003</td>\n",
       "      <td>101.240280</td>\n",
       "      <td>8177400</td>\n",
       "    </tr>\n",
       "    <tr>\n",
       "      <th>...</th>\n",
       "      <td>...</td>\n",
       "      <td>...</td>\n",
       "      <td>...</td>\n",
       "      <td>...</td>\n",
       "      <td>...</td>\n",
       "      <td>...</td>\n",
       "      <td>...</td>\n",
       "    </tr>\n",
       "    <tr>\n",
       "      <th>248</th>\n",
       "      <td>2022-08-05</td>\n",
       "      <td>73.430000</td>\n",
       "      <td>75.040001</td>\n",
       "      <td>73.199997</td>\n",
       "      <td>74.360001</td>\n",
       "      <td>74.360001</td>\n",
       "      <td>4630000</td>\n",
       "    </tr>\n",
       "    <tr>\n",
       "      <th>249</th>\n",
       "      <td>2022-08-08</td>\n",
       "      <td>75.879997</td>\n",
       "      <td>76.779999</td>\n",
       "      <td>74.860001</td>\n",
       "      <td>75.180000</td>\n",
       "      <td>75.180000</td>\n",
       "      <td>6126400</td>\n",
       "    </tr>\n",
       "    <tr>\n",
       "      <th>250</th>\n",
       "      <td>2022-08-09</td>\n",
       "      <td>75.370003</td>\n",
       "      <td>76.089996</td>\n",
       "      <td>74.870003</td>\n",
       "      <td>74.930000</td>\n",
       "      <td>74.930000</td>\n",
       "      <td>4723400</td>\n",
       "    </tr>\n",
       "    <tr>\n",
       "      <th>251</th>\n",
       "      <td>2022-08-10</td>\n",
       "      <td>76.209999</td>\n",
       "      <td>77.800003</td>\n",
       "      <td>75.910004</td>\n",
       "      <td>77.139999</td>\n",
       "      <td>77.139999</td>\n",
       "      <td>10174800</td>\n",
       "    </tr>\n",
       "    <tr>\n",
       "      <th>252</th>\n",
       "      <td>2022-08-11</td>\n",
       "      <td>78.000000</td>\n",
       "      <td>79.209999</td>\n",
       "      <td>77.959999</td>\n",
       "      <td>78.900002</td>\n",
       "      <td>78.900002</td>\n",
       "      <td>8888570</td>\n",
       "    </tr>\n",
       "  </tbody>\n",
       "</table>\n",
       "<p>253 rows × 7 columns</p>\n",
       "</div>"
      ],
      "text/plain": [
       "           Date        Open        High         Low       Close   Adj Close  \\\n",
       "0    2021-08-11  106.209999  106.209999  103.820000  106.040001  105.643753   \n",
       "1    2021-08-12  106.190002  107.230003  105.239998  106.519997  106.121956   \n",
       "2    2021-08-13  106.500000  106.620003  104.580002  104.919998  104.527946   \n",
       "3    2021-08-16  104.230003  104.300003  102.239998  103.349998  102.963806   \n",
       "4    2021-08-17  102.540001  103.269997  100.360001  101.620003  101.240280   \n",
       "..          ...         ...         ...         ...         ...         ...   \n",
       "248  2022-08-05   73.430000   75.040001   73.199997   74.360001   74.360001   \n",
       "249  2022-08-08   75.879997   76.779999   74.860001   75.180000   75.180000   \n",
       "250  2022-08-09   75.370003   76.089996   74.870003   74.930000   74.930000   \n",
       "251  2022-08-10   76.209999   77.800003   75.910004   77.139999   77.139999   \n",
       "252  2022-08-11   78.000000   79.209999   77.959999   78.900002   78.900002   \n",
       "\n",
       "       Volume  \n",
       "0     8305100  \n",
       "1     6398700  \n",
       "2     5619900  \n",
       "3     6916200  \n",
       "4     8177400  \n",
       "..        ...  \n",
       "248   4630000  \n",
       "249   6126400  \n",
       "250   4723400  \n",
       "251  10174800  \n",
       "252   8888570  \n",
       "\n",
       "[253 rows x 7 columns]"
      ]
     },
     "execution_count": 35,
     "metadata": {},
     "output_type": "execute_result"
    }
   ],
   "source": [
    "df"
   ]
  },
  {
   "cell_type": "code",
   "execution_count": 36,
   "id": "2e698268",
   "metadata": {},
   "outputs": [
    {
     "data": {
      "text/plain": [
       "0     2021-08-11\n",
       "1     2021-08-12\n",
       "2     2021-08-13\n",
       "3     2021-08-16\n",
       "4     2021-08-17\n",
       "         ...    \n",
       "248   2022-08-05\n",
       "249   2022-08-08\n",
       "250   2022-08-09\n",
       "251   2022-08-10\n",
       "252   2022-08-11\n",
       "Name: Date, Length: 253, dtype: datetime64[ns]"
      ]
     },
     "execution_count": 36,
     "metadata": {},
     "output_type": "execute_result"
    }
   ],
   "source": [
    "# Separate data for fiture plotting\n",
    "traing_dates = pd.to_datetime(df['Date'])\n",
    "traing_dates"
   ]
  },
  {
   "cell_type": "code",
   "execution_count": 37,
   "id": "67a66a20",
   "metadata": {},
   "outputs": [
    {
     "data": {
      "text/plain": [
       "['Open', 'High', 'Low', 'Close', 'Adj Close']"
      ]
     },
     "execution_count": 37,
     "metadata": {},
     "output_type": "execute_result"
    }
   ],
   "source": [
    "# variables for training\n",
    "cols = list(df)[1:6]\n",
    "cols"
   ]
  },
  {
   "cell_type": "code",
   "execution_count": 38,
   "id": "cccc7f50",
   "metadata": {},
   "outputs": [
    {
     "data": {
      "text/html": [
       "<div>\n",
       "<style scoped>\n",
       "    .dataframe tbody tr th:only-of-type {\n",
       "        vertical-align: middle;\n",
       "    }\n",
       "\n",
       "    .dataframe tbody tr th {\n",
       "        vertical-align: top;\n",
       "    }\n",
       "\n",
       "    .dataframe thead th {\n",
       "        text-align: right;\n",
       "    }\n",
       "</style>\n",
       "<table border=\"1\" class=\"dataframe\">\n",
       "  <thead>\n",
       "    <tr style=\"text-align: right;\">\n",
       "      <th></th>\n",
       "      <th>Open</th>\n",
       "      <th>High</th>\n",
       "      <th>Low</th>\n",
       "      <th>Close</th>\n",
       "      <th>Adj Close</th>\n",
       "    </tr>\n",
       "  </thead>\n",
       "  <tbody>\n",
       "    <tr>\n",
       "      <th>0</th>\n",
       "      <td>106.209999</td>\n",
       "      <td>106.209999</td>\n",
       "      <td>103.820000</td>\n",
       "      <td>106.040001</td>\n",
       "      <td>105.643753</td>\n",
       "    </tr>\n",
       "    <tr>\n",
       "      <th>1</th>\n",
       "      <td>106.190002</td>\n",
       "      <td>107.230003</td>\n",
       "      <td>105.239998</td>\n",
       "      <td>106.519997</td>\n",
       "      <td>106.121956</td>\n",
       "    </tr>\n",
       "    <tr>\n",
       "      <th>2</th>\n",
       "      <td>106.500000</td>\n",
       "      <td>106.620003</td>\n",
       "      <td>104.580002</td>\n",
       "      <td>104.919998</td>\n",
       "      <td>104.527946</td>\n",
       "    </tr>\n",
       "    <tr>\n",
       "      <th>3</th>\n",
       "      <td>104.230003</td>\n",
       "      <td>104.300003</td>\n",
       "      <td>102.239998</td>\n",
       "      <td>103.349998</td>\n",
       "      <td>102.963806</td>\n",
       "    </tr>\n",
       "    <tr>\n",
       "      <th>4</th>\n",
       "      <td>102.540001</td>\n",
       "      <td>103.269997</td>\n",
       "      <td>100.360001</td>\n",
       "      <td>101.620003</td>\n",
       "      <td>101.240280</td>\n",
       "    </tr>\n",
       "    <tr>\n",
       "      <th>...</th>\n",
       "      <td>...</td>\n",
       "      <td>...</td>\n",
       "      <td>...</td>\n",
       "      <td>...</td>\n",
       "      <td>...</td>\n",
       "    </tr>\n",
       "    <tr>\n",
       "      <th>248</th>\n",
       "      <td>73.430000</td>\n",
       "      <td>75.040001</td>\n",
       "      <td>73.199997</td>\n",
       "      <td>74.360001</td>\n",
       "      <td>74.360001</td>\n",
       "    </tr>\n",
       "    <tr>\n",
       "      <th>249</th>\n",
       "      <td>75.879997</td>\n",
       "      <td>76.779999</td>\n",
       "      <td>74.860001</td>\n",
       "      <td>75.180000</td>\n",
       "      <td>75.180000</td>\n",
       "    </tr>\n",
       "    <tr>\n",
       "      <th>250</th>\n",
       "      <td>75.370003</td>\n",
       "      <td>76.089996</td>\n",
       "      <td>74.870003</td>\n",
       "      <td>74.930000</td>\n",
       "      <td>74.930000</td>\n",
       "    </tr>\n",
       "    <tr>\n",
       "      <th>251</th>\n",
       "      <td>76.209999</td>\n",
       "      <td>77.800003</td>\n",
       "      <td>75.910004</td>\n",
       "      <td>77.139999</td>\n",
       "      <td>77.139999</td>\n",
       "    </tr>\n",
       "    <tr>\n",
       "      <th>252</th>\n",
       "      <td>78.000000</td>\n",
       "      <td>79.209999</td>\n",
       "      <td>77.959999</td>\n",
       "      <td>78.900002</td>\n",
       "      <td>78.900002</td>\n",
       "    </tr>\n",
       "  </tbody>\n",
       "</table>\n",
       "<p>253 rows × 5 columns</p>\n",
       "</div>"
      ],
      "text/plain": [
       "           Open        High         Low       Close   Adj Close\n",
       "0    106.209999  106.209999  103.820000  106.040001  105.643753\n",
       "1    106.190002  107.230003  105.239998  106.519997  106.121956\n",
       "2    106.500000  106.620003  104.580002  104.919998  104.527946\n",
       "3    104.230003  104.300003  102.239998  103.349998  102.963806\n",
       "4    102.540001  103.269997  100.360001  101.620003  101.240280\n",
       "..          ...         ...         ...         ...         ...\n",
       "248   73.430000   75.040001   73.199997   74.360001   74.360001\n",
       "249   75.879997   76.779999   74.860001   75.180000   75.180000\n",
       "250   75.370003   76.089996   74.870003   74.930000   74.930000\n",
       "251   76.209999   77.800003   75.910004   77.139999   77.139999\n",
       "252   78.000000   79.209999   77.959999   78.900002   78.900002\n",
       "\n",
       "[253 rows x 5 columns]"
      ]
     },
     "execution_count": 38,
     "metadata": {},
     "output_type": "execute_result"
    }
   ],
   "source": [
    "df[cols]"
   ]
  },
  {
   "cell_type": "code",
   "execution_count": 39,
   "id": "7fceacb6",
   "metadata": {},
   "outputs": [
    {
     "name": "stdout",
     "output_type": "stream",
     "text": [
      "<class 'pandas.core.frame.DataFrame'>\n",
      "RangeIndex: 253 entries, 0 to 252\n",
      "Data columns (total 5 columns):\n",
      " #   Column     Non-Null Count  Dtype  \n",
      "---  ------     --------------  -----  \n",
      " 0   Open       253 non-null    float64\n",
      " 1   High       253 non-null    float64\n",
      " 2   Low        253 non-null    float64\n",
      " 3   Close      253 non-null    float64\n",
      " 4   Adj Close  253 non-null    float64\n",
      "dtypes: float64(5)\n",
      "memory usage: 10.0 KB\n"
     ]
    }
   ],
   "source": [
    "# Converting values to float\n",
    "df_for_training = df[cols].astype(float)\n",
    "df_for_training.info()"
   ]
  },
  {
   "cell_type": "code",
   "execution_count": 40,
   "id": "84e23ca4",
   "metadata": {},
   "outputs": [],
   "source": [
    "# LSTM uses sigmoid and tanh that are sensitive to magnitude so values nneed to be normalized\n",
    "# normalize the dataset\n",
    "scaler = StandardScaler()\n",
    "scaler = scaler.fit(df_for_training)\n",
    "df_for_training_scaled = scaler.transform(df_for_training)"
   ]
  },
  {
   "cell_type": "code",
   "execution_count": 41,
   "id": "3d40c40e",
   "metadata": {},
   "outputs": [],
   "source": [
    "#As required for LSTM networks, we require to reshape an input data into n_samples x timesteps x n_features. \n",
    "#In this example, the n_features is 5. We will make timesteps = 14 (past days data used for training). \n",
    "\n",
    "#Empty lists to be populated using formatted training data\n",
    "X_train = []\n",
    "y_train = []\n",
    "\n",
    "n_future = 1  # Number of days we want to predict into the future\n",
    "n_past = 14   # Number of past days we want to use to predict the future\n",
    "\n",
    "#Reformat input data into a shape: (n_samples x timesteps x n_features)\n",
    "#In my example, my df_for_training_scaled has a shape (12823, 5)\n",
    "#12823 refers to the number of data points and 5 refers to the columns (multi-variables).\n",
    "for i in range(n_past, len(df_for_training_scaled) - n_future +1):\n",
    "    X_train.append(df_for_training_scaled[i - n_past:i, 0:df_for_training.shape[1]])\n",
    "    y_train.append(df_for_training_scaled[i + n_future - 1:i + n_future, 0])"
   ]
  },
  {
   "cell_type": "code",
   "execution_count": 42,
   "id": "e4cc6d94",
   "metadata": {},
   "outputs": [],
   "source": [
    "X_train, y_train = np.array(X_train), np.array(y_train)"
   ]
  },
  {
   "cell_type": "code",
   "execution_count": 43,
   "id": "50f812e6",
   "metadata": {},
   "outputs": [
    {
     "name": "stdout",
     "output_type": "stream",
     "text": [
      "x_train shape == (239, 14, 5).\n",
      "y_train shape == (239, 1).\n"
     ]
    }
   ],
   "source": [
    "print('x_train shape == {}.'.format(X_train.shape))\n",
    "print('y_train shape == {}.'.format(y_train.shape))"
   ]
  },
  {
   "cell_type": "code",
   "execution_count": 44,
   "id": "4e5dda1e",
   "metadata": {},
   "outputs": [
    {
     "name": "stdout",
     "output_type": "stream",
     "text": [
      "Model: \"sequential_3\"\n",
      "_________________________________________________________________\n",
      " Layer (type)                Output Shape              Param #   \n",
      "=================================================================\n",
      " lstm_6 (LSTM)               (None, 14, 64)            17920     \n",
      "                                                                 \n",
      " lstm_7 (LSTM)               (None, 32)                12416     \n",
      "                                                                 \n",
      " dropout_3 (Dropout)         (None, 32)                0         \n",
      "                                                                 \n",
      " dense_2 (Dense)             (None, 1)                 33        \n",
      "                                                                 \n",
      "=================================================================\n",
      "Total params: 30,369\n",
      "Trainable params: 30,369\n",
      "Non-trainable params: 0\n",
      "_________________________________________________________________\n"
     ]
    }
   ],
   "source": [
    "#Remember that we cannot look back 14 days until we get to the 15th day.\n",
    "#it needs multiple variables (5 in my example) to make this prediction. \n",
    "#This is why we can only predict a single day after our training, the day after where our data ends.\n",
    "#To predict more days in future, we need all the 5 variables which we do not have. \n",
    "#We need to predict all variables if we want to do that. \n",
    "\n",
    "# define the Autoencoder model\n",
    "\n",
    "model = Sequential()\n",
    "model.add(LSTM(64, activation='relu', input_shape=(X_train.shape[1], X_train.shape[2]), return_sequences=True))\n",
    "model.add(LSTM(32, activation='relu', return_sequences=False))\n",
    "model.add(Dropout(0.2))\n",
    "model.add(Dense(y_train.shape[1]))\n",
    "\n",
    "model.compile(optimizer='adam', loss='mse')\n",
    "model.summary()"
   ]
  },
  {
   "cell_type": "code",
   "execution_count": 45,
   "id": "b6355ba5",
   "metadata": {},
   "outputs": [
    {
     "name": "stdout",
     "output_type": "stream",
     "text": [
      "Epoch 1/5\n",
      "14/14 [==============================] - 3s 45ms/step - loss: 0.4515 - val_loss: 0.0746\n",
      "Epoch 2/5\n",
      "14/14 [==============================] - 0s 13ms/step - loss: 0.1377 - val_loss: 0.1398\n",
      "Epoch 3/5\n",
      "14/14 [==============================] - 0s 15ms/step - loss: 0.0988 - val_loss: 0.1226\n",
      "Epoch 4/5\n",
      "14/14 [==============================] - 0s 13ms/step - loss: 0.0833 - val_loss: 0.2359\n",
      "Epoch 5/5\n",
      "14/14 [==============================] - 0s 12ms/step - loss: 0.0719 - val_loss: 0.1356\n"
     ]
    },
    {
     "data": {
      "text/plain": [
       "<matplotlib.legend.Legend at 0x1657ffa5fd0>"
      ]
     },
     "execution_count": 45,
     "metadata": {},
     "output_type": "execute_result"
    },
    {
     "data": {
      "image/png": "[encoded data removed]",
      "text/plain": [
       "<Figure size 432x288 with 1 Axes>"
      ]
     },
     "metadata": {
      "needs_background": "light"
     },
     "output_type": "display_data"
    }
   ],
   "source": [
    "# fit the model\n",
    "history = model.fit(X_train, y_train, epochs=5, batch_size=16, validation_split=0.1, verbose=1)\n",
    "\n",
    "plt.plot(history.history['loss'], label='Training loss')\n",
    "plt.plot(history.history['val_loss'], label='Validation loss')\n",
    "plt.legend()"
   ]
  },
  {
   "cell_type": "code",
   "execution_count": 46,
   "id": "a2ef6744",
   "metadata": {},
   "outputs": [],
   "source": [
    "#Predicting...\n",
    "#Libraries that will help extract only business days in the US.\n",
    "#Otherwise the dates would be wrong when you look back (or forward).  \n",
    "from pandas.tseries.holiday import USFederalHolidayCalendar\n",
    "from pandas.tseries.offsets import CustomBusinessDay\n",
    "us_bd = CustomBusinessDay(calendar=USFederalHolidayCalendar())"
   ]
  },
  {
   "cell_type": "code",
   "execution_count": 47,
   "id": "96541a9a",
   "metadata": {},
   "outputs": [],
   "source": [
    "#Remember that can only predict one day in future as our model needs 5 variables\n",
    "#as inputs for prediction. We only have all 5 variables until the last day in our dataset.\n",
    "n_past = 16\n",
    "n_days_for_prediction=15  #let us predict past 15 days"
   ]
  },
  {
   "cell_type": "code",
   "execution_count": 48,
   "id": "c7706362",
   "metadata": {},
   "outputs": [
    {
     "name": "stdout",
     "output_type": "stream",
     "text": [
      "[Timestamp('2022-07-21 00:00:00', freq='C'), Timestamp('2022-07-22 00:00:00', freq='C'), Timestamp('2022-07-25 00:00:00', freq='C'), Timestamp('2022-07-26 00:00:00', freq='C'), Timestamp('2022-07-27 00:00:00', freq='C'), Timestamp('2022-07-28 00:00:00', freq='C'), Timestamp('2022-07-29 00:00:00', freq='C'), Timestamp('2022-08-01 00:00:00', freq='C'), Timestamp('2022-08-02 00:00:00', freq='C'), Timestamp('2022-08-03 00:00:00', freq='C'), Timestamp('2022-08-04 00:00:00', freq='C'), Timestamp('2022-08-05 00:00:00', freq='C'), Timestamp('2022-08-08 00:00:00', freq='C'), Timestamp('2022-08-09 00:00:00', freq='C'), Timestamp('2022-08-10 00:00:00', freq='C')]\n",
      "1/1 [==============================] - 0s 335ms/step\n"
     ]
    }
   ],
   "source": [
    "predict_period_dates = pd.date_range(list(traing_dates)[-n_past], periods=n_days_for_prediction, freq=us_bd).tolist()\n",
    "print(predict_period_dates)\n",
    "\n",
    "#Make prediction\n",
    "prediction = model.predict(X_train[-n_days_for_prediction:]) #shape = (n, 1) where n is the n_days_for_prediction"
   ]
  },
  {
   "cell_type": "code",
   "execution_count": 50,
   "id": "e20435f0",
   "metadata": {},
   "outputs": [],
   "source": [
    "#Perform inverse transformation to rescale back to original range\n",
    "#Since we used 5 variables for transform, the inverse expects same dimensions\n",
    "#Therefore, let us copy our values 5 times and discard them after inverse transform\n",
    "prediction_copies = np.repeat(prediction, df_for_training.shape[1], axis=-1)\n",
    "y_pred_future = scaler.inverse_transform(prediction_copies)[:,0]"
   ]
  },
  {
   "cell_type": "code",
   "execution_count": 52,
   "id": "2485815c",
   "metadata": {},
   "outputs": [],
   "source": [
    "# Convert timestamp to date\n",
    "forecast_dates = []\n",
    "for time_i in predict_period_dates:\n",
    "    forecast_dates.append(time_i.date())\n",
    "    \n",
    "df_forecast = pd.DataFrame({'Date':np.array(forecast_dates), 'Open':y_pred_future})\n",
    "df_forecast['Date']=pd.to_datetime(df_forecast['Date'])"
   ]
  },
  {
   "cell_type": "code",
   "execution_count": 53,
   "id": "f61cea81",
   "metadata": {},
   "outputs": [
    {
     "name": "stderr",
     "output_type": "stream",
     "text": [
      "C:\\Users\\thier\\AppData\\Local\\Temp/ipykernel_13924/82146056.py:2: SettingWithCopyWarning: \n",
      "A value is trying to be set on a copy of a slice from a DataFrame.\n",
      "Try using .loc[row_indexer,col_indexer] = value instead\n",
      "\n",
      "See the caveats in the documentation: https://pandas.pydata.org/pandas-docs/stable/user_guide/indexing.html#returning-a-view-versus-a-copy\n",
      "  original['Date']=pd.to_datetime(original['Date'])\n",
      "C:\\Users\\thier\\anaconda3\\lib\\site-packages\\seaborn\\_decorators.py:36: FutureWarning: Pass the following variables as keyword args: x, y. From version 0.12, the only valid positional argument will be `data`, and passing other arguments without an explicit keyword will result in an error or misinterpretation.\n",
      "  warnings.warn(\n",
      "C:\\Users\\thier\\anaconda3\\lib\\site-packages\\seaborn\\_decorators.py:36: FutureWarning: Pass the following variables as keyword args: x, y. From version 0.12, the only valid positional argument will be `data`, and passing other arguments without an explicit keyword will result in an error or misinterpretation.\n",
      "  warnings.warn(\n"
     ]
    },
    {
     "data": {
      "text/plain": [
       "<AxesSubplot:xlabel='Date', ylabel='Open'>"
      ]
     },
     "execution_count": 53,
     "metadata": {},
     "output_type": "execute_result"
    },
    {
     "data": {
      "image/png": "[encoded data removed]",
      "text/plain": [
       "<Figure size 432x288 with 1 Axes>"
      ]
     },
     "metadata": {
      "needs_background": "light"
     },
     "output_type": "display_data"
    }
   ],
   "source": [
    "original = df[['Date', 'Open']]\n",
    "original['Date']=pd.to_datetime(original['Date'])\n",
    "original = original.loc[original['Date'] >= '2020-5-1']\n",
    "\n",
    "sns.lineplot(original['Date'], original['Open'])\n",
    "sns.lineplot(df_forecast['Date'], df_forecast['Open'])"
   ]
  },
  {
   "cell_type": "code",
   "execution_count": null,
   "id": "6fbcbc0c",
   "metadata": {},
   "outputs": [],
   "source": []
  }
 ],
 "metadata": {
  "kernelspec": {
   "display_name": "Python 3 (ipykernel)",
   "language": "python",
   "name": "python3"
  },
  "language_info": {
   "codemirror_mode": {
    "name": "ipython",
    "version": 3
   },
   "file_extension": ".py",
   "mimetype": "text/x-python",
   "name": "python",
   "nbconvert_exporter": "python",
   "pygments_lexer": "ipython3",
   "version": "3.9.7"
  }
 },
 "nbformat": 4,
 "nbformat_minor": 5
}
